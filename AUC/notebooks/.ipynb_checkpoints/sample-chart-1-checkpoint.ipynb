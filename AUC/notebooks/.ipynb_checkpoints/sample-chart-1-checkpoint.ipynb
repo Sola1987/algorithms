{
 "cells": [
  {
   "cell_type": "code",
   "execution_count": 1,
   "metadata": {},
   "outputs": [],
   "source": [
    "#! -*- coding=utf-8 -*-\n",
    "import pylab as pl\n",
    "from math import log,exp,sqrt"
   ]
  },
  {
   "cell_type": "code",
   "execution_count": 28,
   "metadata": {},
   "outputs": [],
   "source": [
    "evaluate_result=\"data/data.txt\"\n",
    "db = [] #[score,nonclk,clk]\n",
    "pos, neg = 0, 0\n",
    "with open(evaluate_result,'r') as fs:\n",
    "    for line in fs:\n",
    "        score, clk = line.strip().split(',')\n",
    "        clk = int(clk)\n",
    "        nonclk = 1-clk\n",
    "        score = float(score)\n",
    "        db.append([score,nonclk,clk])\n",
    "        pos += clk\n",
    "        neg += nonclk"
   ]
  },
  {
   "cell_type": "code",
   "execution_count": 29,
   "metadata": {},
   "outputs": [
    {
     "data": {
      "text/plain": [
       "[[0.99, 0, 1],\n",
       " [0.88, 0, 1],\n",
       " [0.86, 0, 1],\n",
       " [0.85, 1, 0],\n",
       " [0.84, 0, 1],\n",
       " [0.82, 0, 1],\n",
       " [0.83, 1, 0],\n",
       " [0.8, 0, 1],\n",
       " [0.82, 0, 1],\n",
       " [0.85, 0, 1],\n",
       " [0.78, 0, 1],\n",
       " [0.79, 1, 0],\n",
       " [0.33, 1, 0]]"
      ]
     },
     "execution_count": 29,
     "metadata": {},
     "output_type": "execute_result"
    }
   ],
   "source": [
    "db"
   ]
  },
  {
   "cell_type": "code",
   "execution_count": 36,
   "metadata": {},
   "outputs": [
    {
     "data": {
      "text/plain": [
       "(4, 9)"
      ]
     },
     "execution_count": 36,
     "metadata": {},
     "output_type": "execute_result"
    }
   ],
   "source": [
    "neg, pos"
   ]
  },
  {
   "cell_type": "code",
   "execution_count": 30,
   "metadata": {},
   "outputs": [],
   "source": [
    "db = sorted(db, key=lambda x:x[0], reverse=True)"
   ]
  },
  {
   "cell_type": "code",
   "execution_count": 31,
   "metadata": {},
   "outputs": [
    {
     "data": {
      "text/plain": [
       "[[0.99, 0, 1],\n",
       " [0.88, 0, 1],\n",
       " [0.86, 0, 1],\n",
       " [0.85, 1, 0],\n",
       " [0.85, 0, 1],\n",
       " [0.84, 0, 1],\n",
       " [0.83, 1, 0],\n",
       " [0.82, 0, 1],\n",
       " [0.82, 0, 1],\n",
       " [0.8, 0, 1],\n",
       " [0.79, 1, 0],\n",
       " [0.78, 0, 1],\n",
       " [0.33, 1, 0]]"
      ]
     },
     "execution_count": 31,
     "metadata": {},
     "output_type": "execute_result"
    }
   ],
   "source": [
    "db"
   ]
  },
  {
   "cell_type": "code",
   "execution_count": 39,
   "metadata": {},
   "outputs": [
    {
     "name": "stdout",
     "output_type": "stream",
     "text": [
      "0/4, 1/9\n",
      "0/4, 2/9\n",
      "0/4, 3/9\n",
      "1/4, 3/9\n",
      "1/4, 4/9\n",
      "1/4, 5/9\n",
      "2/4, 5/9\n",
      "2/4, 6/9\n",
      "2/4, 7/9\n",
      "2/4, 8/9\n",
      "3/4, 8/9\n",
      "3/4, 9/9\n",
      "4/4, 9/9\n"
     ]
    }
   ],
   "source": [
    "#计算ROC坐标点\n",
    "xy_arr = []\n",
    "tp, fp = 0., 0.\n",
    "for i in range(len(db)):\n",
    "    tp += db[i][2]    # true positive\n",
    "    fp += db[i][1]    # false positive\n",
    "#     print(tp, fp)\n",
    "    xy_arr.append([fp/neg,tp/pos])\n",
    "    print('%d/%d, %d/%d' % (fp, neg, tp, pos))"
   ]
  },
  {
   "cell_type": "code",
   "execution_count": 33,
   "metadata": {},
   "outputs": [
    {
     "data": {
      "text/plain": [
       "[[0.0, 0.1111111111111111],\n",
       " [0.0, 0.2222222222222222],\n",
       " [0.0, 0.3333333333333333],\n",
       " [0.25, 0.3333333333333333],\n",
       " [0.25, 0.4444444444444444],\n",
       " [0.25, 0.5555555555555556],\n",
       " [0.5, 0.5555555555555556],\n",
       " [0.5, 0.6666666666666666],\n",
       " [0.5, 0.7777777777777778],\n",
       " [0.5, 0.8888888888888888],\n",
       " [0.75, 0.8888888888888888],\n",
       " [0.75, 1.0],\n",
       " [1.0, 1.0]]"
      ]
     },
     "execution_count": 33,
     "metadata": {},
     "output_type": "execute_result"
    }
   ],
   "source": [
    "xy_arr"
   ]
  },
  {
   "cell_type": "code",
   "execution_count": 40,
   "metadata": {},
   "outputs": [
    {
     "name": "stdout",
     "output_type": "stream",
     "text": [
      "0.25\n",
      "0.5\n",
      "0.75\n",
      "1.0\n",
      "the auc is 0.6944444444444444.\n"
     ]
    }
   ],
   "source": [
    "#计算曲线下面积\n",
    "auc = 0.\n",
    "prev_x = 0\n",
    "for x,y in xy_arr:\n",
    "    if x != prev_x:\n",
    "        auc += (x - prev_x) * y\n",
    "        prev_x = x\n",
    "        print(prev_x)\n",
    "print(\"the auc is %s.\" % auc)"
   ]
  },
  {
   "cell_type": "code",
   "execution_count": 35,
   "metadata": {},
   "outputs": [
    {
     "data": {
      "image/png": "[encoded data removed]",
      "text/plain": [
       "<Figure size 432x288 with 1 Axes>"
      ]
     },
     "metadata": {
      "needs_background": "light"
     },
     "output_type": "display_data"
    }
   ],
   "source": [
    "x = [_v[0] for _v in xy_arr]\n",
    "y = [_v[1] for _v in xy_arr]\n",
    "pl.title(\"ROC curve of %s (AUC = %.4f)\" % ('svm',auc))\n",
    "pl.xlabel(\"False Positive Rate\")\n",
    "pl.ylabel(\"True Positive Rate\")\n",
    "pl.plot(x, y)# use pylab to plot x and y\n",
    "pl.show()# show the plot on the screen"
   ]
  },
  {
   "cell_type": "code",
   "execution_count": null,
   "metadata": {},
   "outputs": [],
   "source": []
  }
 ],
 "metadata": {
  "kernelspec": {
   "display_name": "Python 3",
   "language": "python",
   "name": "python3"
  },
  "language_info": {
   "codemirror_mode": {
    "name": "ipython",
    "version": 3
   },
   "file_extension": ".py",
   "mimetype": "text/x-python",
   "name": "python",
   "nbconvert_exporter": "python",
   "pygments_lexer": "ipython3",
   "version": "3.7.0"
  }
 },
 "nbformat": 4,
 "nbformat_minor": 2
}
