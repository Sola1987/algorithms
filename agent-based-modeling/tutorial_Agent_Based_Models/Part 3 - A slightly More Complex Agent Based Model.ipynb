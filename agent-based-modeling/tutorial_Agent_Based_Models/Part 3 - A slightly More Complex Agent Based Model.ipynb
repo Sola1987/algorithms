{
 "cells": [
  {
   "cell_type": "markdown",
   "metadata": {},
   "source": [
    "# Part 3: A Slightly More Complex Agent Based Model \n",
    "\n",
    "##### Authors: Bill Thompson (biltho@mpi.nl) and Limor Raviv (limor.raviv@mpi.nl) \n",
    "Please let us know if you have any comments, suggestions or questions regarding this notebook. \n",
    "\n",
    "---------------\n",
    "\n",
    "## Summary\n",
    "In this third tutorial, we will build a more complex simulation of agents using the commands in the second notebook, making our agents and their interactions a bit more ecologically valid. \n",
    "\n",
    "The major differences between these models are:\n",
    "1. Instead of having agents with simple binary representaions (either [a] or [i]), agents in this model will have a continuous distribution around their prefered vowel.\n",
    "2. The interactions in this model will be double-sided, so that both agents change their behavior after interacting.\n",
    "3. Agents' personalities will be less rigid, allowing for more intersting changes during interaction: stubborn agents will align a little bit (instead of not at all), while flexible agents will align to a greater extent (but not fully).\n",
    "\n",
    "We will make multiple simulations of inertactions under different conditions, and see how this affects the distribution of vowels in the population. \n",
    "\n",
    "\n",
    "-------------- \n",
    "\n",
    "\n",
    "### 1. Setting up the network\n",
    "First, let's create lists containing the possible biases for our agents. In this more complex model, agents have a range of possible vowels they can produce, which is distributed normally around a mean value on a single dimension. In this exmaple, a mean of \"-1\" will correspond to [a] and a mean of \"1\" will corresponf to [i]."
   ]
  },
  {
   "cell_type": "code",
   "execution_count": 5,
   "metadata": {
    "collapsed": true
   },
   "outputs": [],
   "source": [
    "# Set the model Parameters\n",
    "\n",
    "vowel_means = [-1., 1.] # set possible inital means for the distributions\n",
    "\n",
    "personalities = ['F', 'S']"
   ]
  },
  {
   "cell_type": "code",
   "execution_count": 6,
   "metadata": {
    "collapsed": true
   },
   "outputs": [],
   "source": [
    "# Create a function that makes a single agent based\n",
    "\n",
    "def make_agent(vowel_mean, personality):\n",
    "    return [vowel_mean, personality]\n"
   ]
  },
  {
   "cell_type": "code",
   "execution_count": 7,
   "metadata": {},
   "outputs": [
    {
     "data": {
      "text/plain": [
       "[[-1.0, 'S'],\n",
       " [-1.0, 'F'],\n",
       " [-1.0, 'F'],\n",
       " [1.0, 'S'],\n",
       " [-1.0, 'F'],\n",
       " [1.0, 'F'],\n",
       " [1.0, 'S'],\n",
       " [1.0, 'S']]"
      ]
     },
     "execution_count": 7,
     "metadata": {},
     "output_type": "execute_result"
    }
   ],
   "source": [
    "# Create a function that makes a population of random agents\n",
    "\n",
    "import random\n",
    "\n",
    "def make_population(N):\n",
    "    \n",
    "    population = []\n",
    "    \n",
    "    for i in range(N):\n",
    "        \n",
    "        m = random.randint(0,1)\n",
    "        \n",
    "        p = random.randint(0,1)\n",
    "        \n",
    "        agent = make_agent(vowel_means[m], personalities[p])\n",
    "        \n",
    "        population.append(agent)\n",
    "\n",
    "    return population\n",
    "\n",
    "\n",
    "# Check that this works by making a population of 8 agents\n",
    "make_population(8)\n"
   ]
  },
  {
   "cell_type": "markdown",
   "metadata": {},
   "source": [
    "### 2. Introducing more complex interations\n",
    "So far, this looked similar to our simple model, but now it's time to introduce some new features."
   ]
  },
  {
   "cell_type": "markdown",
   "metadata": {},
   "source": [
    "Because we want our agents to have more complex representations, we also need to write a function that selects a specific vowel from the distribution implied by he agent's mean,  for each interaction."
   ]
  },
  {
   "cell_type": "code",
   "execution_count": 8,
   "metadata": {},
   "outputs": [
    {
     "name": "stdout",
     "output_type": "stream",
     "text": [
      "The agent's mean was -1.0\n",
      "The agent's chosen utterance is -0.928122058588\n"
     ]
    }
   ],
   "source": [
    "# Create a function that chooses a variant from a distribution centered around the agent's mean vowel\n",
    "\n",
    "from copy import deepcopy \n",
    "from numpy.random import normal\n",
    "import numpy\n",
    "\n",
    "def choose_utterance(agent):   # sample from a normal distribution with SD=0.25 and mean of the teacher\n",
    "    agent_utterance=normal(agent[0],.25)\n",
    "    return agent_utterance\n",
    "\n",
    "# Let's check that this works\n",
    "# You can run this multiple times to see different chosen utternaces for different agents\n",
    "\n",
    "pop=make_population(4)\n",
    "vowel = choose_utterance(pop[0])\n",
    "print \"The agent's mean was\", pop[0][0]\n",
    "print \"The agent's chosen utterance is\", vowel"
   ]
  },
  {
   "cell_type": "markdown",
   "metadata": {},
   "source": [
    "In this new model, being flexible means that the agent shifts their vowel towards the other agents' utterance (by half of the distance between the mean and the utterance). This just means flexible agents adapt by going half way towrads the other agent. "
   ]
  },
  {
   "cell_type": "markdown",
   "metadata": {},
   "source": [
    "In addition, stubborn agents are not completey stubborn and are only adapting by a little bit (by 1/10 of the distance between their mean and the other agent's utterance)."
   ]
  },
  {
   "cell_type": "markdown",
   "metadata": {},
   "source": [
    "Let's try to write this function that changes the agents means according to their biased personalities, using simple conditions:"
   ]
  },
  {
   "cell_type": "code",
   "execution_count": 38,
   "metadata": {},
   "outputs": [
    {
     "name": "stdout",
     "output_type": "stream",
     "text": [
      "[-0.8, 'S']\n",
      "[0.0, 'F']\n"
     ]
    }
   ],
   "source": [
    "# Create a function that shifts the means of a flexible agent\n",
    "\n",
    "def learn(utterance,agent):\n",
    "    if agent[1] == \"F\":\n",
    "        new_mean = (agent[0] + utterance) / 2.\n",
    "    else:\n",
    "        difference = abs(utterance-agent[0])\n",
    "        if utterance > agent[0]:\n",
    "            new_mean = agent[0] + (difference/10.)\n",
    "        else:\n",
    "            new_mean = agent[0] - (difference/10.)\n",
    "    agent[0] = deepcopy(new_mean)\n",
    "\n",
    "\n",
    "# Check that this works\n",
    "\n",
    "# Create two agents with a mean of 1\n",
    "stb_agent = [-1,'S']\n",
    "flex_agent = [-1,'F']\n",
    "\n",
    "# See what happens when each agent learns from an untterance of -1 (the other vowel)\n",
    "learn(1,stb_agent)\n",
    "learn(1,flex_agent)\n",
    "\n",
    "print stb_agent\n",
    "print flex_agent"
   ]
  },
  {
   "cell_type": "markdown",
   "metadata": {},
   "source": [
    "Now, we want both agents to update their representations after an interaction. This means that instead of having single-sided interactions with a listener and a producer, we now have an exchange of productions between the two agents in which each can learn from each other... "
   ]
  },
  {
   "cell_type": "markdown",
   "metadata": {},
   "source": [
    "For this, we'll write a new function that updates both agents based on their current utterances:"
   ]
  },
  {
   "cell_type": "code",
   "execution_count": 10,
   "metadata": {
    "collapsed": true
   },
   "outputs": [],
   "source": [
    "# Create a function in which both agents generate utterances and can learn from each other \n",
    "\n",
    "def interact((agent1,agent2)): \n",
    "    \n",
    "    agent1_utterance = choose_utterance(agent1)\n",
    "    agent2_utterance = choose_utterance(agent2)\n",
    "    \n",
    "    if agent1[0] == agent2[0]:\n",
    "        pass # do nothing if the two agents have the same distributions \n",
    "    else:\n",
    "        learn(agent2_utterance,agent1)\n",
    "        learn(agent1_utterance, agent2)\n",
    "    #return agent1_utterance, agent2_utterance, agent1, agent2\n",
    "        \n",
    "\n",
    "# Check if it works by uncommenting the \"return\" comment above \n",
    "\n",
    "interact(([-1,'F'],[1,'S']))"
   ]
  },
  {
   "cell_type": "markdown",
   "metadata": {},
   "source": [
    "### 3. Simulation time!\n",
    "Great! Now we have a double-sided interaction, and we can write a function that chooses random pairs from a populations, and then simulate multiple interactions between different agents."
   ]
  },
  {
   "cell_type": "code",
   "execution_count": 11,
   "metadata": {
    "collapsed": true
   },
   "outputs": [],
   "source": [
    "# Create a function that chooses two agents from a population\n",
    "from numpy.random import choice\n",
    "\n",
    "def choose_pair(population):\n",
    "    i = random.randint(0, len(population) - 1) # phyton counts from 0, so pop(8) is an error\n",
    "    j = random.randint(0, len(population) - 1)\n",
    "    \n",
    "    while i == j:\n",
    "        j = random.randint(0, len(population) - 1)\n",
    "        \n",
    "    return population[i], population[j]\n",
    "\n",
    "# Create a function that simulates k interactions in a population of n agents\n",
    "\n",
    "def simulate(n, k):\n",
    "    \n",
    "    initial_population = make_population(n)\n",
    "    population=deepcopy(initial_population)\n",
    "    \n",
    "    for i in range(k):\n",
    "        \n",
    "        pair = choose_pair(population)\n",
    "        \n",
    "        interact(pair)\n",
    "    \n",
    "    return initial_population, population"
   ]
  },
  {
   "cell_type": "markdown",
   "metadata": {},
   "source": [
    "Let's test that our simulation is working by looking at the results. Feel free to change the number of agents and the number of interactions as you please."
   ]
  },
  {
   "cell_type": "code",
   "execution_count": 20,
   "metadata": {},
   "outputs": [
    {
     "name": "stdout",
     "output_type": "stream",
     "text": [
      "The initial population was [[-1.0, 'S'], [-1.0, 'F'], [-1.0, 'S'], [-1.0, 'S'], [1.0, 'F'], [1.0, 'F'], [1.0, 'S'], [1.0, 'F'], [1.0, 'S'], [1.0, 'S'], [1.0, 'F'], [-1.0, 'S'], [1.0, 'F'], [1.0, 'F'], [-1.0, 'S'], [-1.0, 'F'], [-1.0, 'S'], [-1.0, 'S'], [-1.0, 'S'], [1.0, 'F'], [-1.0, 'F'], [-1.0, 'F'], [1.0, 'F'], [-1.0, 'F'], [-1.0, 'F'], [-1.0, 'F'], [1.0, 'S'], [-1.0, 'F'], [-1.0, 'S'], [1.0, 'S'], [-1.0, 'F'], [1.0, 'S'], [-1.0, 'S'], [-1.0, 'S'], [1.0, 'S'], [-1.0, 'S'], [1.0, 'S'], [1.0, 'S'], [-1.0, 'S'], [-1.0, 'F'], [1.0, 'S'], [-1.0, 'S'], [-1.0, 'S'], [-1.0, 'S'], [-1.0, 'S'], [-1.0, 'F'], [-1.0, 'S'], [-1.0, 'F'], [-1.0, 'S'], [-1.0, 'S'], [-1.0, 'F'], [-1.0, 'S'], [1.0, 'S'], [1.0, 'F'], [1.0, 'F'], [1.0, 'S'], [-1.0, 'S'], [1.0, 'S'], [1.0, 'S'], [-1.0, 'F'], [-1.0, 'S'], [1.0, 'F'], [1.0, 'S'], [1.0, 'F'], [1.0, 'S'], [1.0, 'F'], [-1.0, 'F'], [-1.0, 'F'], [1.0, 'F'], [1.0, 'F'], [1.0, 'F'], [1.0, 'S'], [-1.0, 'F'], [1.0, 'F'], [1.0, 'S'], [-1.0, 'S'], [-1.0, 'S'], [1.0, 'F'], [1.0, 'F'], [1.0, 'F'], [-1.0, 'F'], [1.0, 'F'], [-1.0, 'S'], [-1.0, 'S'], [1.0, 'S'], [1.0, 'S'], [1.0, 'F'], [1.0, 'F'], [-1.0, 'F'], [1.0, 'S'], [1.0, 'S'], [1.0, 'S'], [1.0, 'F'], [-1.0, 'F'], [1.0, 'F'], [1.0, 'F'], [1.0, 'S'], [-1.0, 'F'], [1.0, 'S'], [-1.0, 'S'], [1.0, 'F'], [1.0, 'S'], [-1.0, 'F'], [1.0, 'S'], [-1.0, 'S'], [1.0, 'F'], [-1.0, 'S'], [1.0, 'F'], [-1.0, 'S'], [-1.0, 'F'], [-1.0, 'F'], [-1.0, 'F'], [-1.0, 'S'], [-1.0, 'F'], [-1.0, 'S'], [-1.0, 'S'], [-1.0, 'S'], [1.0, 'F'], [1.0, 'F'], [-1.0, 'F'], [1.0, 'F'], [1.0, 'S'], [1.0, 'F'], [1.0, 'F'], [-1.0, 'F'], [1.0, 'S'], [-1.0, 'S'], [1.0, 'S'], [-1.0, 'F'], [1.0, 'S'], [1.0, 'S'], [1.0, 'S'], [1.0, 'S'], [1.0, 'S'], [1.0, 'F'], [-1.0, 'S'], [-1.0, 'F'], [1.0, 'F'], [1.0, 'S'], [1.0, 'F'], [1.0, 'S'], [-1.0, 'S'], [-1.0, 'S'], [-1.0, 'S'], [1.0, 'S'], [1.0, 'S'], [-1.0, 'S'], [-1.0, 'F'], [1.0, 'S'], [1.0, 'F'], [1.0, 'S'], [1.0, 'F'], [1.0, 'S'], [-1.0, 'S'], [1.0, 'S'], [-1.0, 'F'], [-1.0, 'S'], [1.0, 'S'], [-1.0, 'F'], [1.0, 'F'], [1.0, 'F'], [1.0, 'S'], [1.0, 'F'], [-1.0, 'F'], [-1.0, 'S'], [-1.0, 'S'], [-1.0, 'S'], [-1.0, 'S'], [1.0, 'F'], [-1.0, 'F'], [1.0, 'S'], [1.0, 'S'], [-1.0, 'F'], [1.0, 'F'], [1.0, 'S'], [-1.0, 'S'], [1.0, 'F'], [1.0, 'F'], [-1.0, 'S'], [-1.0, 'F'], [-1.0, 'S'], [-1.0, 'S'], [-1.0, 'S'], [-1.0, 'S'], [1.0, 'F'], [-1.0, 'F'], [-1.0, 'F'], [1.0, 'S'], [1.0, 'F'], [-1.0, 'S'], [1.0, 'S'], [1.0, 'F'], [1.0, 'F'], [-1.0, 'S'], [-1.0, 'F'], [1.0, 'F'], [1.0, 'F'], [1.0, 'F'], [-1.0, 'S'], [-1.0, 'F']]\n",
      "The new population is [[-0.33612523116371656, 'S'], [-0.25374284974132355, 'F'], [-0.024164716085370932, 'S'], [-0.0947857200463108, 'S'], [0.025422895659080263, 'F'], [0.0586153695346793, 'F'], [0.09194091831782064, 'S'], [-0.08122811133433429, 'F'], [0.11844495290954447, 'S'], [0.24889054784257997, 'S'], [-0.19311816598978615, 'F'], [-0.05729157743010555, 'S'], [0.12059914419105941, 'F'], [0.014858088924355646, 'F'], [-0.23827182124484336, 'S'], [-0.26470649531396395, 'F'], [-0.18945546147917258, 'S'], [-0.22867137994011705, 'S'], [-0.1861034954763223, 'S'], [0.022277195794315294, 'F'], [0.04087852613969493, 'F'], [-0.2633235654095118, 'F'], [-0.3489179800168305, 'F'], [-0.012892167451473147, 'F'], [0.11551235528443803, 'F'], [0.4257162070954591, 'F'], [0.12495342664902265, 'S'], [0.22031659354953465, 'F'], [-0.17656530771648865, 'S'], [0.1334914423367196, 'S'], [0.01355301884870852, 'F'], [-0.047415772233720545, 'S'], [-0.1323592550374669, 'S'], [-0.17215532546518073, 'S'], [0.17606215595974853, 'S'], [-0.1198972391371732, 'S'], [-0.10763344923360488, 'S'], [-0.07701497474955114, 'S'], [-0.27196736964798973, 'S'], [-0.22289883029119262, 'F'], [0.1736695154564813, 'S'], [-0.1445833669548324, 'S'], [-0.2839820809936282, 'S'], [-0.33170154348885333, 'S'], [-0.42612414431889284, 'S'], [-0.3308892594200611, 'F'], [-0.06478923765924821, 'S'], [0.19487967238734072, 'F'], [-0.17277706689232222, 'S'], [-0.1664667767340305, 'S'], [0.14846761070917125, 'F'], [-0.08284382545906022, 'S'], [-0.1484267927041898, 'S'], [-0.006594825334631106, 'F'], [0.21384514880797112, 'F'], [0.2566059696254423, 'S'], [-0.029714003236456253, 'S'], [-0.02613510543997502, 'S'], [-0.06790350283427796, 'S'], [0.19402907447397727, 'F'], [-0.14599090193129302, 'S'], [-0.00566266528371857, 'F'], [0.3636018472459744, 'S'], [0.13728063113461042, 'F'], [0.02703298057192826, 'S'], [-0.10953328274127866, 'F'], [-0.2478461546631059, 'F'], [-0.21447993515421598, 'F'], [-0.05567318357055075, 'F'], [0.05962521687446837, 'F'], [0.005142520783799148, 'F'], [0.12351396268658493, 'S'], [-0.22485311392460264, 'F'], [-0.28372261707430946, 'F'], [0.024401847979989982, 'S'], [-0.26112049228246487, 'S'], [-0.22597001413990359, 'S'], [-0.012482924034972885, 'F'], [0.2520695255638383, 'F'], [0.020736517118688763, 'F'], [0.1850299601025842, 'F'], [-0.33845293582947067, 'F'], [-0.17821278461098705, 'S'], [-0.14936817963364427, 'S'], [-0.10100948239342873, 'S'], [0.16506401353192077, 'S'], [-0.22760354096515403, 'F'], [-0.0821159692447111, 'F'], [-0.05206157182060336, 'F'], [-0.038165805814246855, 'S'], [0.1481380377349921, 'S'], [0.08832728478406975, 'S'], [-4.558336919791017e-05, 'F'], [0.33959605471549964, 'F'], [-0.1585831370677816, 'F'], [0.05995602435565965, 'F'], [-0.06284327115616611, 'S'], [0.28074739400588267, 'F'], [0.12296849477016525, 'S'], [-0.20289020826253032, 'S'], [0.25716501400735037, 'F'], [0.11532782610987286, 'S'], [-0.12099814098464226, 'F'], [0.16861605775681726, 'S'], [-0.11545634698458596, 'S'], [0.17193756205771754, 'F'], [0.028883407353733223, 'S'], [-0.030713962342291817, 'F'], [-0.06061751969651222, 'S'], [0.09116649587606002, 'F'], [-0.45980934714478383, 'F'], [-0.08132666148109528, 'F'], [-0.15164843589500412, 'S'], [-0.2990400563187103, 'F'], [-0.07259951851237462, 'S'], [-0.1284612594731909, 'S'], [-0.18439324098603654, 'S'], [-0.19424048712636732, 'F'], [0.1483328170896695, 'F'], [-0.026249195751461292, 'F'], [-0.11180936536852162, 'F'], [0.3552750559926281, 'S'], [0.3170828758424754, 'F'], [0.02498440870686984, 'F'], [-0.2944686804908755, 'F'], [0.002169487917057185, 'S'], [-0.39731643354463303, 'S'], [0.19742286907416076, 'S'], [-0.06760494914472125, 'F'], [0.03852241873668559, 'S'], [0.14130702541955098, 'S'], [0.07419237556855465, 'S'], [0.12053146424208434, 'S'], [0.12326173338347951, 'S'], [-0.13662874859654783, 'F'], [-0.41683876795577035, 'S'], [0.4779624223746042, 'F'], [0.14233591114811614, 'F'], [0.047598416529071166, 'S'], [-0.26517624332141887, 'F'], [0.023231204720860467, 'S'], [-0.15195063023786293, 'S'], [-0.13224209981140503, 'S'], [-0.24893193305100936, 'S'], [0.004654279666556675, 'S'], [0.06464922937023528, 'S'], [-0.2047829023827696, 'S'], [-0.012894903053873363, 'F'], [-0.06412926183822251, 'S'], [-0.024620882733932342, 'F'], [0.10941294142973107, 'S'], [-0.4165660286547343, 'F'], [0.054717465805887724, 'S'], [-0.02020019717633162, 'S'], [0.32415724958339565, 'S'], [-0.17352089124133807, 'F'], [-0.18430196147108754, 'S'], [0.05310854574714984, 'S'], [-0.2174690152306681, 'F'], [0.022577998456831172, 'F'], [-0.15948271014166596, 'F'], [0.03657462261435769, 'S'], [0.07907585749829481, 'F'], [-0.382721107729326, 'F'], [-0.14538562516397566, 'S'], [-0.059767477187519194, 'S'], [-0.22947050546411019, 'S'], [-0.22554300809140637, 'S'], [-0.1316970228907814, 'F'], [-0.07378161990586989, 'F'], [-0.012581973556308662, 'S'], [0.14101479497650854, 'S'], [0.2744317664353563, 'F'], [-0.3857376400623714, 'F'], [0.3064364849126095, 'S'], [-0.2053814323136906, 'S'], [-0.25943342663415125, 'F'], [0.10243259213435077, 'F'], [-0.07487311854394299, 'S'], [-0.06087094004543247, 'F'], [-0.1814264766910952, 'S'], [-0.2061666190361775, 'S'], [-0.12011703184426592, 'S'], [-0.22788795012511057, 'S'], [-0.12500438631697477, 'F'], [-0.17799109669097957, 'F'], [0.20080541304779245, 'F'], [0.006504411352013451, 'S'], [-0.03052616012584631, 'F'], [-0.2263458695534925, 'S'], [-0.0020928034962156327, 'S'], [-0.03776650637404814, 'F'], [-0.12802541900209374, 'F'], [-0.11576876718455385, 'S'], [-0.17702164928870762, 'F'], [-0.13576348887730488, 'F'], [0.06252182498329031, 'F'], [0.3483390891639268, 'F'], [-0.1049628695005348, 'S'], [-0.12234063659690818, 'F']]\n"
     ]
    },
    {
     "data": {
      "image/png": "[encoded data removed]",
      "text/plain": [
       "<matplotlib.figure.Figure at 0x6ba8438>"
      ]
     },
     "metadata": {},
     "output_type": "display_data"
    }
   ],
   "source": [
    "# Run a simulation with 200 agents and 2000 interactions\n",
    "\n",
    "initial_population, new_population = simulate(200,2000)\n",
    "\n",
    "print \"The initial population was\", initial_population\n",
    "print \"The new population is\", new_population\n",
    "\n",
    "# Plot the agents' initial and final means\n",
    "\n",
    "%matplotlib inline \n",
    "# put plot in the notebook\n",
    "import matplotlib.pyplot as plt # importing a plotting library\n",
    "\n",
    "initial_means = []\n",
    "final_means = []\n",
    "\n",
    "for agent in range(len(initial_population)):\n",
    "    initial_means.append(initial_population[agent][0])\n",
    "    final_means.append(new_population[agent][0])\n",
    "    \n",
    "plt.hist(initial_means, label='initial means')\n",
    "plt.hist(final_means, label='final means')\n",
    "plt.legend(loc='upper center')\n",
    "plt.show()  "
   ]
  },
  {
   "cell_type": "markdown",
   "metadata": {},
   "source": [
    "In the plot above, the clustering of organge agents (final population) shows convergence, while the spread distribution (blue, initial population) implies divergence.\n",
    "\n",
    "In most simulations, you'll see convergence."
   ]
  },
  {
   "cell_type": "markdown",
   "metadata": {},
   "source": [
    "But since as you've seen, each simulation yields different outcomes in terms of which variant agents have converged on, we need to run multiple simulations and compute their mean to get a more reliable picture of what's happening. So let's make a function that computes the final means of several simulations."
   ]
  },
  {
   "cell_type": "code",
   "execution_count": 21,
   "metadata": {
    "collapsed": true
   },
   "outputs": [],
   "source": [
    "# Create a function to compute the means of the vowels in the population\n",
    "\n",
    "def compute_mean(population):\n",
    "    t=0.\n",
    "    for agent in population:\n",
    "        t += agent[0]\n",
    "    return t/len(population)\n",
    "\n",
    "# Create a function that runs multiuple simulations and returns the final mean of each of them\n",
    "\n",
    "def batch_simulate(n,k,s): #n=pop size, k=no. of interactions, s=no. of simulations\n",
    "    batch_final=[]\n",
    "    for i in range(s):\n",
    "        initial_population, new_population = simulate(n, k)\n",
    "        new_proportion=compute_mean(new_population)\n",
    "        batch_final.append(new_proportion)\n",
    "    return batch_final\n",
    "        "
   ]
  },
  {
   "cell_type": "markdown",
   "metadata": {},
   "source": [
    "So what's going on? Let's run some simulations! This might take a few minutes to complete."
   ]
  },
  {
   "cell_type": "code",
   "execution_count": 22,
   "metadata": {},
   "outputs": [
    {
     "data": {
      "text/plain": [
       "Text(0,0.5,u'Number of Simulations')"
      ]
     },
     "execution_count": 22,
     "metadata": {},
     "output_type": "execute_result"
    },
    {
     "data": {
      "image/png": "[encoded data removed]",
      "text/plain": [
       "<matplotlib.figure.Figure at 0x98cf630>"
      ]
     },
     "metadata": {},
     "output_type": "display_data"
    }
   ],
   "source": [
    "# Run 500 simulations\n",
    "results = batch_simulate(200,2000,500)\n",
    "\n",
    "# Plot the result\n",
    "import seaborn as sns # make the plot look better\n",
    "plt.hist(results, edgecolor = 'white')\n",
    "plt.xlabel('Final Population Mean Vowel')\n",
    "plt.ylabel('Number of Simulations')"
   ]
  },
  {
   "cell_type": "markdown",
   "metadata": {
    "collapsed": true
   },
   "source": [
    "What you can see in the historgram above is that there is a nice normal distribution around 0. That is, **in most simulations, the population converges on the mean between the two initial variants**. This result is exactly what we expect given prior studies with similar models."
   ]
  },
  {
   "cell_type": "markdown",
   "metadata": {},
   "source": [
    "So let's probe this model a bit more by looking at effect of stubborn agents in the poopulation. "
   ]
  },
  {
   "cell_type": "markdown",
   "metadata": {},
   "source": [
    "As we did in the second tutorial, we will see if the number of stubborn agents affects the trend of convergence towards the mean. Since we changed the agents learn in this model, the result might be different this time. Specifically, stubborn agents in the new model are not longer rigid and can align to a new utterance, just to a lesser degree than flexible agents."
   ]
  },
  {
   "cell_type": "markdown",
   "metadata": {},
   "source": [
    "So let's rewrite the functions defined above so that they created biased populations where we control the number of stubborn agents:"
   ]
  },
  {
   "cell_type": "code",
   "execution_count": 24,
   "metadata": {
    "collapsed": true
   },
   "outputs": [],
   "source": [
    "# Modify the function to make populations of N agents with a given number of stubborn agents (st)\n",
    "\n",
    "def make_population_biased(N,st):\n",
    "    \n",
    "    population = []\n",
    "    \n",
    "    for i in range(st):\n",
    "        \n",
    "        m = random.randint(0,1)\n",
    "        \n",
    "        agent = make_agent(vowel_means[m], personalities[1])\n",
    "        \n",
    "        population.append(agent)\n",
    "    \n",
    "    for i in range(N-st):\n",
    "        \n",
    "        m = random.randint(0,1)\n",
    "        \n",
    "        agent = make_agent(vowel_means[m], personalities[0])\n",
    "        \n",
    "        population.append(agent)\n",
    "\n",
    "    return population\n",
    "\n",
    "\n",
    "\n",
    "# Modify the function so that it calls our biased population \n",
    "\n",
    "def simulate_biased(n, k, st):  #st=no. of stubborn\n",
    "    \n",
    "    initial_population = make_population_biased(n,st)\n",
    "    population=deepcopy(initial_population)\n",
    "    \n",
    "    for i in range(k):\n",
    "        \n",
    "        pair = choose_pair(population)\n",
    "        \n",
    "        interact(pair)\n",
    "        \n",
    "    return initial_population, population"
   ]
  },
  {
   "cell_type": "markdown",
   "metadata": {},
   "source": [
    "We can check that our changes work by simulating one population first. You can change the number of stubborn agents to see how it affects the results."
   ]
  },
  {
   "cell_type": "code",
   "execution_count": 43,
   "metadata": {},
   "outputs": [
    {
     "name": "stdout",
     "output_type": "stream",
     "text": [
      "The initial population was [[1.0, 'S'], [-1.0, 'S'], [1.0, 'S'], [-1.0, 'S'], [-1.0, 'S'], [-1.0, 'S'], [-1.0, 'S'], [1.0, 'S'], [1.0, 'S'], [1.0, 'S'], [-1.0, 'S'], [1.0, 'S'], [1.0, 'S'], [1.0, 'S'], [-1.0, 'S'], [1.0, 'S'], [1.0, 'S'], [-1.0, 'S'], [1.0, 'S'], [-1.0, 'S'], [1.0, 'S'], [-1.0, 'S'], [1.0, 'S'], [1.0, 'S'], [1.0, 'S'], [-1.0, 'S'], [-1.0, 'S'], [1.0, 'S'], [-1.0, 'S'], [1.0, 'S'], [1.0, 'S'], [1.0, 'S'], [-1.0, 'S'], [-1.0, 'S'], [1.0, 'S'], [-1.0, 'S'], [-1.0, 'S'], [1.0, 'S'], [-1.0, 'S'], [-1.0, 'S'], [-1.0, 'S'], [-1.0, 'S'], [-1.0, 'S'], [1.0, 'S'], [-1.0, 'S'], [1.0, 'S'], [1.0, 'S'], [1.0, 'S'], [-1.0, 'S'], [-1.0, 'S'], [1.0, 'F'], [-1.0, 'F'], [-1.0, 'F'], [-1.0, 'F'], [-1.0, 'F'], [1.0, 'F'], [-1.0, 'F'], [1.0, 'F'], [-1.0, 'F'], [-1.0, 'F'], [1.0, 'F'], [-1.0, 'F'], [1.0, 'F'], [1.0, 'F'], [-1.0, 'F'], [1.0, 'F'], [1.0, 'F'], [1.0, 'F'], [-1.0, 'F'], [-1.0, 'F'], [1.0, 'F'], [-1.0, 'F'], [-1.0, 'F'], [1.0, 'F'], [1.0, 'F'], [-1.0, 'F'], [-1.0, 'F'], [1.0, 'F'], [-1.0, 'F'], [-1.0, 'F'], [-1.0, 'F'], [1.0, 'F'], [-1.0, 'F'], [-1.0, 'F'], [-1.0, 'F'], [-1.0, 'F'], [1.0, 'F'], [-1.0, 'F'], [-1.0, 'F'], [-1.0, 'F'], [1.0, 'F'], [-1.0, 'F'], [-1.0, 'F'], [-1.0, 'F'], [-1.0, 'F'], [-1.0, 'F'], [-1.0, 'F'], [1.0, 'F'], [1.0, 'F'], [1.0, 'F'], [1.0, 'F'], [-1.0, 'F'], [1.0, 'F'], [-1.0, 'F'], [1.0, 'F'], [-1.0, 'F'], [-1.0, 'F'], [-1.0, 'F'], [1.0, 'F'], [1.0, 'F'], [-1.0, 'F'], [1.0, 'F'], [-1.0, 'F'], [1.0, 'F'], [-1.0, 'F'], [1.0, 'F'], [-1.0, 'F'], [1.0, 'F'], [1.0, 'F'], [1.0, 'F'], [1.0, 'F'], [1.0, 'F'], [-1.0, 'F'], [1.0, 'F'], [-1.0, 'F'], [-1.0, 'F'], [-1.0, 'F'], [1.0, 'F'], [1.0, 'F'], [-1.0, 'F'], [-1.0, 'F'], [1.0, 'F'], [-1.0, 'F'], [-1.0, 'F'], [1.0, 'F'], [1.0, 'F'], [1.0, 'F'], [1.0, 'F'], [-1.0, 'F'], [-1.0, 'F'], [1.0, 'F'], [1.0, 'F'], [-1.0, 'F'], [1.0, 'F'], [1.0, 'F'], [-1.0, 'F'], [-1.0, 'F'], [-1.0, 'F'], [1.0, 'F'], [-1.0, 'F'], [-1.0, 'F'], [-1.0, 'F'], [1.0, 'F'], [-1.0, 'F'], [1.0, 'F'], [1.0, 'F'], [1.0, 'F'], [1.0, 'F'], [-1.0, 'F'], [1.0, 'F'], [1.0, 'F'], [1.0, 'F'], [-1.0, 'F'], [1.0, 'F'], [1.0, 'F'], [-1.0, 'F'], [-1.0, 'F'], [-1.0, 'F'], [-1.0, 'F'], [1.0, 'F'], [1.0, 'F'], [-1.0, 'F'], [1.0, 'F'], [1.0, 'F'], [1.0, 'F'], [1.0, 'F'], [-1.0, 'F'], [-1.0, 'F'], [1.0, 'F'], [-1.0, 'F'], [-1.0, 'F'], [1.0, 'F'], [1.0, 'F'], [-1.0, 'F'], [1.0, 'F'], [-1.0, 'F'], [1.0, 'F'], [-1.0, 'F'], [-1.0, 'F'], [1.0, 'F'], [1.0, 'F'], [-1.0, 'F'], [-1.0, 'F'], [-1.0, 'F'], [-1.0, 'F'], [-1.0, 'F'], [-1.0, 'F'], [1.0, 'F'], [1.0, 'F'], [1.0, 'F']]\n",
      "The new population is [[0.33340045240024124, 'S'], [-0.053012386637094816, 'S'], [0.21996408297757136, 'S'], [-0.21738961548621405, 'S'], [-0.18088163381208364, 'S'], [-0.0615250459850646, 'S'], [-0.11251164823405824, 'S'], [0.12680841017907812, 'S'], [0.13440225038417858, 'S'], [0.08526744892068741, 'S'], [-0.20391924290375008, 'S'], [0.16652353813572102, 'S'], [0.24028909435897944, 'S'], [0.0790891154088812, 'S'], [-0.25066164871489455, 'S'], [0.08301613290077955, 'S'], [0.05464168274093771, 'S'], [-0.16733401969328313, 'S'], [0.08105978992773603, 'S'], [-0.18836461480968858, 'S'], [0.10055905961445247, 'S'], [-0.07731207672675691, 'S'], [0.32830344493272023, 'S'], [0.11068149045602045, 'S'], [-0.07572026479263323, 'S'], [-0.07554710412831891, 'S'], [0.0046268534599685825, 'S'], [0.12768155793226685, 'S'], [-0.07227634188216671, 'S'], [0.15674030121672433, 'S'], [0.16199794588523278, 'S'], [0.13334762975850178, 'S'], [-0.26303979905312774, 'S'], [-0.08384642824617336, 'S'], [0.033223666550964856, 'S'], [-0.12158053913096876, 'S'], [-0.251194601533938, 'S'], [0.00865374304568181, 'S'], [-0.12619875091575922, 'S'], [-0.2767809897799653, 'S'], [-0.2170979976077239, 'S'], [-0.12954476665181092, 'S'], [-0.08524587673529671, 'S'], [-0.14023975337426442, 'S'], [-0.23721850683364465, 'S'], [-0.11479756274292768, 'S'], [0.02499641410584491, 'S'], [0.18650455871571878, 'S'], [-0.13614220897639656, 'S'], [-0.18122509353469818, 'S'], [0.04742325085036403, 'F'], [0.06573234621557608, 'F'], [-0.2384069873355874, 'F'], [0.008277650453582051, 'F'], [0.14154824033845076, 'F'], [0.05512296433172424, 'F'], [-0.13668031013120013, 'F'], [0.10011947838437674, 'F'], [0.12537140186993448, 'F'], [-0.07775615199876293, 'F'], [-0.13340201166257315, 'F'], [-0.18528029611682753, 'F'], [-0.0023465419788434305, 'F'], [0.056145045586865366, 'F'], [-0.12314171676679488, 'F'], [-0.014157823747848908, 'F'], [0.07428195126231091, 'F'], [0.026403502412745285, 'F'], [-0.3888286848369721, 'F'], [-0.12144034419711515, 'F'], [-0.017881193494325265, 'F'], [-0.1172941853936986, 'F'], [-0.17963047459318734, 'F'], [0.061931095507989115, 'F'], [0.24414507053725695, 'F'], [0.17966820315947318, 'F'], [-0.41529162426059335, 'F'], [-0.08505777868102735, 'F'], [0.3639201703872797, 'F'], [0.16088769127350785, 'F'], [-0.31822358397446837, 'F'], [0.0668121193347238, 'F'], [-0.24540157057470793, 'F'], [-0.2764619351272602, 'F'], [-0.05356145661185874, 'F'], [-0.25915319621931787, 'F'], [0.0320473965011393, 'F'], [0.0005264193706683434, 'F'], [-0.14983015995630258, 'F'], [0.38015391654694913, 'F'], [-0.3073848752554271, 'F'], [0.06302662502025644, 'F'], [-0.17058048595451242, 'F'], [-0.20312521765905112, 'F'], [-0.32074752356336506, 'F'], [0.10647214613236955, 'F'], [0.02133518203741943, 'F'], [0.18005290485309913, 'F'], [-0.18732676319689467, 'F'], [0.08020012840336045, 'F'], [0.17343471465011284, 'F'], [0.05981624837755674, 'F'], [0.4379145860975868, 'F'], [0.1338014574385539, 'F'], [-0.34570831393433493, 'F'], [-0.08090591455424188, 'F'], [-0.015785025151358767, 'F'], [0.07079347657900784, 'F'], [0.020701204484380654, 'F'], [-0.18803113220549825, 'F'], [-0.03682486407558308, 'F'], [-0.02422135489645133, 'F'], [-0.07955979905993346, 'F'], [0.09619861779675955, 'F'], [-0.041974255727599066, 'F'], [-0.16605094419364103, 'F'], [0.01835994172299761, 'F'], [-0.01465333473716186, 'F'], [-0.17352803861844684, 'F'], [-0.0551899572657852, 'F'], [-0.02827793696793121, 'F'], [-0.07476321064373216, 'F'], [0.05970928992666269, 'F'], [-0.058119370079834067, 'F'], [0.16484621585916126, 'F'], [0.042721961967883214, 'F'], [-0.261600465130662, 'F'], [0.05593842750756717, 'F'], [0.30196410534325413, 'F'], [0.005113810377497849, 'F'], [0.2726348690111322, 'F'], [0.0583197963458488, 'F'], [-0.25564181294084426, 'F'], [0.0989582812176731, 'F'], [-0.23754467412209107, 'F'], [0.045894704580909676, 'F'], [-0.2713091730385912, 'F'], [0.049273675063055244, 'F'], [0.012919898710431733, 'F'], [0.3144528017833692, 'F'], [0.14030943859880918, 'F'], [-0.19551710485746746, 'F'], [-0.17860731218063752, 'F'], [-0.0211656812580528, 'F'], [0.10456357108484692, 'F'], [-0.00888363011398342, 'F'], [0.22608038707235276, 'F'], [-0.4219951763357934, 'F'], [-0.15289121213857154, 'F'], [-0.1439678232577415, 'F'], [0.18871630452210963, 'F'], [-0.05855919376274597, 'F'], [-0.08465482752829825, 'F'], [-0.06927074673692561, 'F'], [0.19731637814084516, 'F'], [-0.1655809219321447, 'F'], [0.08782497656398067, 'F'], [-0.06441579768365104, 'F'], [-0.08836536040266242, 'F'], [-0.06359054227946613, 'F'], [-0.20661240563684807, 'F'], [0.11718537598356413, 'F'], [0.11142639087609206, 'F'], [0.03159747670598625, 'F'], [-0.38896062033190737, 'F'], [0.19356261802857852, 'F'], [-0.4021006803854549, 'F'], [0.11548701195459868, 'F'], [-0.1429891252293522, 'F'], [-0.11828698207495325, 'F'], [0.18457545009077125, 'F'], [0.15301716076870903, 'F'], [-0.0823488372499164, 'F'], [-0.23438785562396258, 'F'], [-0.14642937928300184, 'F'], [0.17210747783097646, 'F'], [-0.25432437097486754, 'F'], [0.22934960147618105, 'F'], [0.27637165483961534, 'F'], [-0.2506311457047918, 'F'], [0.17208536319462572, 'F'], [-0.05745525473711688, 'F'], [0.22389204815465702, 'F'], [0.02159930488184913, 'F'], [-0.03017648929715977, 'F'], [0.24363911047814013, 'F'], [0.05947330731313072, 'F'], [0.008111993718210225, 'F'], [-0.07200688990876657, 'F'], [-0.1663168327893257, 'F'], [-0.08325124786362259, 'F'], [0.05236183080237061, 'F'], [0.007663427818057317, 'F'], [-0.30058872307274836, 'F'], [0.06818731710814244, 'F'], [-0.3111721841239698, 'F'], [-0.017906189247289685, 'F'], [-0.3153322599770656, 'F'], [-0.14136341126739044, 'F'], [0.40368173333158025, 'F']]\n"
     ]
    },
    {
     "data": {
      "image/png": "[encoded data removed]",
      "text/plain": [
       "<matplotlib.figure.Figure at 0xe054c50>"
      ]
     },
     "metadata": {},
     "output_type": "display_data"
    }
   ],
   "source": [
    "# Simulate a population with 50 stubborn agents\n",
    "old_pop, new_pop =simulate_biased(200,2000,50)\n",
    "\n",
    "print \"The initial population was\", old_pop\n",
    "print \"The new population is\", new_pop\n",
    "\n",
    "# Plot the agents' initial and final means\n",
    "\n",
    "initial_means = []\n",
    "final_means = []\n",
    "\n",
    "for agent in range(len(old_pop)):\n",
    "    initial_means.append(old_pop[agent][0])\n",
    "    final_means.append(new_pop[agent][0])\n",
    "    \n",
    "plt.hist(initial_means, label='initial means')\n",
    "plt.hist(final_means, label='final means')\n",
    "plt.legend(loc='upper center')\n",
    "plt.show()  "
   ]
  },
  {
   "cell_type": "markdown",
   "metadata": {},
   "source": [
    "Because we want to look at the degree of convergence and how it is affected by stubborn agents, we need a measure to capture variance, like the standard deviation (SD). For now, we will write a function that stores the SDs of the final means in multiple simulations. This will give us an idea of how diverged the population was after interacting. "
   ]
  },
  {
   "cell_type": "code",
   "execution_count": 28,
   "metadata": {
    "collapsed": true
   },
   "outputs": [],
   "source": [
    "# Create a function to compute the means of the vowels in the population\n",
    "\n",
    "def compute_SD(population):\n",
    "    pop_means=[]\n",
    "    for agent in population:\n",
    "        pop_means.append(deepcopy(agent[0]))\n",
    "    pop_SD= numpy.std(pop_means)\n",
    "    return pop_SD\n",
    "\n",
    "# Rewrite the batch simulation function so that it runs s simulations for each possible proportion of stubborn agents (possible_sts)\n",
    "\n",
    "def batch_simulate_biased(n,k,s): #n-pop size, k=no. of interactions, s=no. of simulations for each bias\n",
    "    \n",
    "    all_results=[]\n",
    "    \n",
    "    possible_sts = [0, int(n / 10.), int(n / 4.), int(n / 2.), int(3*n / 4.), n]\n",
    "    # This time, we'll test 0%, 10%, 25%, 50%, 75% and 100% stubborn agents\n",
    "    \n",
    "    for st in possible_sts:\n",
    "        \n",
    "        print st\n",
    "    \n",
    "        current_results = []  # print the progress of the simulations \n",
    "    \n",
    "        for i in range(s):\n",
    "            initial_population, new_population = simulate_biased(n, k, st)\n",
    "            sd = compute_SD(new_population)\n",
    "            current_results.append(sd)\n",
    "        \n",
    "        all_results.append([st,current_results])\n",
    "    \n",
    "    return all_results\n"
   ]
  },
  {
   "cell_type": "markdown",
   "metadata": {},
   "source": [
    "Now, let's run a few simulations with different proportions of stubborn agents, and see what happens:"
   ]
  },
  {
   "cell_type": "code",
   "execution_count": 35,
   "metadata": {},
   "outputs": [
    {
     "name": "stdout",
     "output_type": "stream",
     "text": [
      "0\n",
      "20\n",
      "50\n",
      "100\n",
      "150\n",
      "200\n"
     ]
    }
   ],
   "source": [
    "# Run 50 simulations of each stubborness proportions in a community of 200 agents \n",
    "results = batch_simulate_biased(200,2000,50)\n"
   ]
  },
  {
   "cell_type": "code",
   "execution_count": 36,
   "metadata": {},
   "outputs": [
    {
     "data": {
      "image/png": "[encoded data removed]",
      "text/plain": [
       "<matplotlib.figure.Figure at 0xddc7fd0>"
      ]
     },
     "metadata": {},
     "output_type": "display_data"
    }
   ],
   "source": [
    "# Plot the results of the simulations \n",
    "        \n",
    "plt.hist(results[0][1], label='no stubborn agents',edgecolor = 'white')\n",
    "plt.hist(results[1][1], label='20 stubborn agents',edgecolor = 'white')\n",
    "plt.hist(results[2][1], label='50 stubborn agents',edgecolor = 'white')\n",
    "plt.hist(results[3][1], label='100 stubborn agents',edgecolor = 'white')\n",
    "plt.hist(results[4][1], label='150 stubborn agents',edgecolor = 'white')\n",
    "plt.hist(results[5][1], label='200 stubborn agents',edgecolor = 'white')\n",
    "plt.legend(loc='best')\n",
    "plt.xlabel('SD of Final Vowel Distribution in the Population ')\n",
    "plt.ylabel('Number of Simulations')     \n",
    "plt.show()  "
   ]
  },
  {
   "cell_type": "markdown",
   "metadata": {},
   "source": [
    "As you can see, there seems to be no relationship between the degree of variance and the number of stubborn agents in the population, suggesting that all populations converged similarly regradless of how stubborn agents were. Looking at the relatively low SDs, this is presumably because in this new model, 2000 interactions were enough to allow the entire population to converge even if stubborn agents did so slower."
   ]
  },
  {
   "cell_type": "markdown",
   "metadata": {},
   "source": [
    "So let's do something more intersting. Let's look at how convergence varies with **population size**."
   ]
  },
  {
   "cell_type": "markdown",
   "metadata": {},
   "source": [
    "For this, we'll rewrite the function so that it simulates different sizes of populations (n) instead of different proportions of stubborn agents. We'll choose n= 10, 150, 250, 350, 450, 550 and 650. (Feel free to change this as you please)."
   ]
  },
  {
   "cell_type": "code",
   "execution_count": 61,
   "metadata": {
    "collapsed": true
   },
   "outputs": [],
   "source": [
    "# Rewrite the batch simulation function so that it runs s simulations for each possible population size (possible_size)\n",
    "\n",
    "def batch_simulate_size(k,s): # k=no. of interactions, s=no. of simulations for each bias\n",
    "    \n",
    "    all_results=[]\n",
    "    \n",
    "    possible_size = [50, 150, 250, 350, 450, 550, 650]\n",
    "        \n",
    "    for n in possible_size:\n",
    "        \n",
    "        print n\n",
    "    \n",
    "        current_results = []  # print the progress of the simulations \n",
    "    \n",
    "        for i in range(s):\n",
    "            initial_population, new_population = simulate(n, k)\n",
    "            sd = compute_SD(new_population)\n",
    "            current_results.append(sd)\n",
    "        \n",
    "        all_results.append([n,current_results])\n",
    "    \n",
    "    return all_results\n"
   ]
  },
  {
   "cell_type": "markdown",
   "metadata": {},
   "source": [
    "Let's run some simulations with different population sizes: "
   ]
  },
  {
   "cell_type": "code",
   "execution_count": 62,
   "metadata": {},
   "outputs": [
    {
     "name": "stdout",
     "output_type": "stream",
     "text": [
      "50\n",
      "150\n",
      "250\n",
      "350\n",
      "450\n",
      "550\n",
      "650\n"
     ]
    }
   ],
   "source": [
    "# Run 50 simulations of each population size\n",
    "results = batch_simulate_size(2000,50)\n"
   ]
  },
  {
   "cell_type": "code",
   "execution_count": 64,
   "metadata": {},
   "outputs": [
    {
     "data": {
      "image/png": "[encoded data removed]",
      "text/plain": [
       "<matplotlib.figure.Figure at 0xdb497f0>"
      ]
     },
     "metadata": {},
     "output_type": "display_data"
    }
   ],
   "source": [
    "# Plot the results of the simulations \n",
    "        \n",
    "plt.hist(results[0][1], label='50 agents',edgecolor = 'white')\n",
    "plt.hist(results[1][1], label='150 agents',edgecolor = 'white')\n",
    "plt.hist(results[2][1], label='250 agents',edgecolor = 'white')\n",
    "plt.hist(results[3][1], label='350 agents',edgecolor = 'white')\n",
    "plt.hist(results[4][1], label='450 agents',edgecolor = 'white')\n",
    "plt.hist(results[5][1], label='550 agents',edgecolor = 'white')\n",
    "plt.hist(results[6][1], label='650 agents',edgecolor = 'white')\n",
    "#plt.hist(results[7][1], label='1000 agents',edgecolor = 'white')\n",
    "plt.legend(loc='best')\n",
    "plt.xlabel('SD of Final Vowel Distribution in the Population ')\n",
    "plt.ylabel('Number of Simulations')     \n",
    "plt.show()  "
   ]
  },
  {
   "cell_type": "markdown",
   "metadata": {},
   "source": [
    "This plot shows that population size mediates convergence: given the same number of interactions, smaller populations show lower SDs and therefore higher degrees of convergence. As populations grow, the less converged they are at their final stage. This is reasonable, since bigger populations require more time to reach the same level of connectivity between agents, and have more variance to begin with. "
   ]
  },
  {
   "cell_type": "markdown",
   "metadata": {},
   "source": [
    "Thus, we may predict that given more time to interact, bigger populations will show the same levels of convegrence as smaller populations. We can quickly check this by running a simulation with more interactions (say, 5 times more):"
   ]
  },
  {
   "cell_type": "code",
   "execution_count": 68,
   "metadata": {},
   "outputs": [
    {
     "name": "stdout",
     "output_type": "stream",
     "text": [
      "50\n",
      "150\n",
      "250\n",
      "350\n",
      "450\n",
      "550\n",
      "650\n"
     ]
    }
   ],
   "source": [
    "# Run 50 simulations of each population size\n",
    "results = batch_simulate_size(10000,50)\n"
   ]
  },
  {
   "cell_type": "code",
   "execution_count": 69,
   "metadata": {},
   "outputs": [
    {
     "data": {
      "image/png": "[encoded data removed]",
      "text/plain": [
       "<matplotlib.figure.Figure at 0xccae390>"
      ]
     },
     "metadata": {},
     "output_type": "display_data"
    }
   ],
   "source": [
    "# Plot the results of the simulations \n",
    "        \n",
    "plt.hist(results[0][1], label='50 agents',edgecolor = 'white')\n",
    "plt.hist(results[1][1], label='150 agents',edgecolor = 'white')\n",
    "plt.hist(results[2][1], label='250 agents',edgecolor = 'white')\n",
    "plt.hist(results[3][1], label='350 agents',edgecolor = 'white')\n",
    "plt.hist(results[4][1], label='450 agents',edgecolor = 'white')\n",
    "plt.hist(results[5][1], label='550 agents',edgecolor = 'white')\n",
    "plt.hist(results[6][1], label='650 agents',edgecolor = 'white')\n",
    "#plt.hist(results[7][1], label='1000 agents',edgecolor = 'white')\n",
    "plt.legend(loc='best')\n",
    "plt.xlabel('SD of Final Vowel Distribution in the Population ')\n",
    "plt.ylabel('Number of Simulations')     \n",
    "plt.show()"
   ]
  },
  {
   "cell_type": "markdown",
   "metadata": {},
   "source": [
    "Indeed, the results show that with more interactions, there is little to no difference between the different-sized populations, and all eventually reach similar levels of convergence. "
   ]
  },
  {
   "cell_type": "markdown",
   "metadata": {},
   "source": [
    "## Wrapping up\n",
    "So you did it! You finished the tutorial and made a model with more complex agents and complex interactions. "
   ]
  },
  {
   "cell_type": "markdown",
   "metadata": {},
   "source": [
    "Hopefully, now you feel confident enough to change different parts of the code, or add your own new features. "
   ]
  },
  {
   "cell_type": "markdown",
   "metadata": {},
   "source": [
    "Good luck with your model!"
   ]
  },
  {
   "cell_type": "markdown",
   "metadata": {},
   "source": [
    "Bill & Limor"
   ]
  }
 ],
 "metadata": {
  "kernelspec": {
   "display_name": "Python 2",
   "language": "python",
   "name": "python2"
  },
  "language_info": {
   "codemirror_mode": {
    "name": "ipython",
    "version": 2
   },
   "file_extension": ".py",
   "mimetype": "text/x-python",
   "name": "python",
   "nbconvert_exporter": "python",
   "pygments_lexer": "ipython2",
   "version": "2.7.11"
  }
 },
 "nbformat": 4,
 "nbformat_minor": 2
}
